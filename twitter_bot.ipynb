{
 "cells": [
  {
   "cell_type": "code",
   "execution_count": 28,
   "metadata": {},
   "outputs": [],
   "source": [
    "import pandas as pd\n",
    "import tweepy\n",
    "import json\n",
    "\n",
    "from pprint import pprint"
   ]
  },
  {
   "cell_type": "code",
   "execution_count": 29,
   "metadata": {},
   "outputs": [],
   "source": [
    "with open(\"\") as f:\n",
    "    d = json.load(f)"
   ]
  },
  {
   "cell_type": "code",
   "execution_count": 32,
   "metadata": {},
   "outputs": [],
   "source": [
    "consumer_key = d['consumer_key']\n",
    "consumer_secret = d['consumer_key_secret']\n",
    "access_token = d['access_token']\n",
    "access_token_secret = d['access_token_secret']"
   ]
  },
  {
   "cell_type": "code",
   "execution_count": 33,
   "metadata": {},
   "outputs": [],
   "source": [
    "oauth = tweepy.OAuthHandler(consumer_key=consumer_key, consumer_secret=consumer_secret)"
   ]
  },
  {
   "cell_type": "code",
   "execution_count": 34,
   "metadata": {},
   "outputs": [],
   "source": [
    "twitter = tweepy.API(auth_handler=oauth)"
   ]
  },
  {
   "cell_type": "code",
   "execution_count": 39,
   "metadata": {},
   "outputs": [
    {
     "name": "stdout",
     "output_type": "stream",
     "text": [
      "I've just watched episode S03E10 of Rick and Morty! #rickandmorty #tvtime https://t.co/PJKEKgldXF\n",
      "2019-01-09 19:27:25\n",
      "None\n",
      "\n",
      "\n",
      "\n",
      "RT @ethananarchy: @RickandMorty Tiny Bits\n",
      "\n",
      "#rickandmorty https://t.co/Xf6gOXYbik\n",
      "2019-01-09 19:21:31\n",
      "None\n",
      "\n",
      "\n",
      "\n",
      "New Funko POP, Vynl, Rides, and Movie Moments in stock.  #funko #funkopop #vynl #jurassicpark #aladdin… https://t.co/QN3MJIlSGt\n",
      "2019-01-09 19:19:13\n",
      "None\n",
      "\n",
      "\n",
      "\n",
      "I've just watched episode S03E10 of Rick and Morty! #rickandmorty   #tvtime https://t.co/u7u2eXsFkW https://t.co/5s5o14uZy9\n",
      "2019-01-09 19:13:51\n",
      "None\n",
      "\n",
      "\n",
      "\n",
      "RT @PescodSquare: 🎉 *COMPETITION TIME!* 🎉\n",
      "We’ve teamed up with @hmv_Boston in Pescod Square to give you the chance to win the official 2019…\n",
      "2019-01-09 19:04:16\n",
      "None\n",
      "\n",
      "\n",
      "\n",
      "RT @LBTN808: When the Mini Prussian Kissing Skulls are found to be the key to the whole universe. Tell 'Em Steve Dave and Rick and Morty cr…\n",
      "2019-01-09 18:57:47\n",
      "None\n",
      "\n",
      "\n",
      "\n",
      "Eu assisti episódio The Wedding Squanchers S02E10 de Rick and Morty! #rickandmorty  #tvtime https://t.co/T1heEJqxVu\n",
      "2019-01-09 18:46:41\n",
      "None\n",
      "\n",
      "\n",
      "\n",
      "When it’s a Rick kinda morning! #rickandmorty #collarxelbow #coffeebeforecardio https://t.co/5kXNHwPGpt\n",
      "2019-01-09 18:42:03\n",
      "None\n",
      "\n",
      "\n",
      "\n",
      "I've just watched episode S01E05 of Rick and Morty! #rickandmorty  #tvtime https://t.co/1V2C2qq4ns https://t.co/p4CuzUKvz4\n",
      "2019-01-09 18:40:54\n",
      "None\n",
      "\n",
      "\n",
      "\n",
      "When the Mini Prussian Kissing Skulls are found to be the key to the whole universe. Tell 'Em Steve Dave and Rick a… https://t.co/XOJxn3VgT5\n",
      "2019-01-09 18:40:42\n",
      "None\n",
      "\n",
      "\n",
      "\n",
      "RT @ImDavidYates: my new #HarleyQuinn on my new #rickAndMorty stand https://t.co/97dS2RPAIE\n",
      "2019-01-09 18:37:50\n",
      "None\n",
      "\n",
      "\n",
      "\n",
      "RT @ayemans19: A mí me descuidas dos segundos y ya estoy viendo las tres temporadas de #RickAndMorty\n",
      "2019-01-09 18:37:32\n",
      "None\n",
      "\n",
      "\n",
      "\n",
      "#RickandMorty\n",
      "2019-01-09 18:36:19\n",
      "None\n",
      "\n",
      "\n",
      "\n",
      "RT @PescodSquare: 🎉 *COMPETITION TIME!* 🎉\n",
      "We’ve teamed up with @hmv_Boston in Pescod Square to give you the chance to win the official 2019…\n",
      "2019-01-09 18:35:41\n",
      "None\n",
      "\n",
      "\n",
      "\n",
      "\"God, Grandpa, you're such a dick.\" #RickAndMorty\n",
      "2019-01-09 18:35:04\n",
      "None\n",
      "\n",
      "\n",
      "\n"
     ]
    }
   ],
   "source": [
    "for tweet in twitter.search(\"#rickandmorty\"):\n",
    "    print(tweet.text)\n",
    "    print(tweet.created_at)\n",
    "    print(tweet.geo)\n",
    "    print(\"\\n\\n\")"
   ]
  },
  {
   "cell_type": "code",
   "execution_count": null,
   "metadata": {},
   "outputs": [],
   "source": []
  }
 ],
 "metadata": {
  "kernelspec": {
   "display_name": "Python 3",
   "language": "python",
   "name": "python3"
  },
  "language_info": {
   "codemirror_mode": {
    "name": "ipython",
    "version": 3
   },
   "file_extension": ".py",
   "mimetype": "text/x-python",
   "name": "python",
   "nbconvert_exporter": "python",
   "pygments_lexer": "ipython3",
   "version": "3.6.4"
  }
 },
 "nbformat": 4,
 "nbformat_minor": 2
}
