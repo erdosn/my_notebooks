{
 "cells": [
  {
   "cell_type": "markdown",
   "metadata": {},
   "source": [
    "### Objectives\n",
    "YWBAT \n",
    "* Scrape a website with infinite scrolling\n",
    "* Take our scraped data and organize it into a database/datastructure\n",
    "* apply Markovify to create sentences from our data"
   ]
  },
  {
   "cell_type": "code",
   "execution_count": 1,
   "metadata": {},
   "outputs": [],
   "source": [
    "import json\n",
    "import requests\n",
    "import pandas as pd\n",
    "import numpy as np\n",
    "\n",
    "from bs4 import BeautifulSoup # parser html, xml files"
   ]
  },
  {
   "cell_type": "code",
   "execution_count": 2,
   "metadata": {},
   "outputs": [],
   "source": [
    "def make_brainy_soup(url=\"https://www.brainyquote.com/topics/inspirational\", page=None):\n",
    "    request = request_brainy_quote(url=url, page=page)\n",
    "    soup = BeautifulSoup(request.text, 'html.parser')\n",
    "    return soup"
   ]
  },
  {
   "cell_type": "code",
   "execution_count": 3,
   "metadata": {},
   "outputs": [],
   "source": [
    "def build_url(url=\"https://www.brainyquote.com/topics/inspirational\", page=None):\n",
    "    if page is None:\n",
    "        url = url\n",
    "    else:\n",
    "        url = url+\"_\"+str(page)\n",
    "    return url"
   ]
  },
  {
   "cell_type": "code",
   "execution_count": 4,
   "metadata": {},
   "outputs": [],
   "source": [
    "def request_brainy_quote(url=\"https://www.brainyquote.com/topics/inspirational\", page=None):\n",
    "    url = build_url(url=url, page=page)\n",
    "    # make request\n",
    "    request = requests.get(url)\n",
    "    return request"
   ]
  },
  {
   "cell_type": "code",
   "execution_count": 5,
   "metadata": {},
   "outputs": [],
   "source": [
    "# get quotes\n",
    "def get_quotes(quote_tag, verbose=False):\n",
    "    \"\"\"\n",
    "    input\n",
    "    quote_tag: tag_object <img ...\n",
    "    \n",
    "    return\n",
    "    the alt value quote\n",
    "    \"\"\"\n",
    "    try:\n",
    "        return \"-\".join(quote_tag.find(\"img\").attrs[\"alt\"].split(\"-\")[:-1]).strip()\n",
    "    except Exception as e:\n",
    "        if verbose:\n",
    "            print(\"Could not get quote from {}\".format(quote_tag))\n",
    "            print(e)\n",
    "        return None"
   ]
  },
  {
   "cell_type": "code",
   "execution_count": 6,
   "metadata": {},
   "outputs": [],
   "source": [
    "def get_author(quote_tag, verbose=False):\n",
    "    try:\n",
    "        return quote_tag.find(\"img\").attrs[\"alt\"].split(\"-\")[-1].strip()\n",
    "    except Exception as e:\n",
    "        if verbose:\n",
    "            print(\"Could not get author from {}\".format(quote_tag))\n",
    "            print(e)\n",
    "        pass"
   ]
  },
  {
   "cell_type": "markdown",
   "metadata": {},
   "source": [
    "### Use functions to create soup objects for brainy quote pages"
   ]
  },
  {
   "cell_type": "code",
   "execution_count": 7,
   "metadata": {},
   "outputs": [],
   "source": [
    "soups = []\n",
    "for i in range(1, 18):\n",
    "    soup = make_brainy_soup(page=i)\n",
    "    soups.append(soup)"
   ]
  },
  {
   "cell_type": "markdown",
   "metadata": {},
   "source": [
    "### Use functions to build quotes and authors list"
   ]
  },
  {
   "cell_type": "code",
   "execution_count": 8,
   "metadata": {},
   "outputs": [],
   "source": [
    "quote_list = []\n",
    "authors_list = []\n",
    "for soup in soups:\n",
    "    quote_tags = soup.find_all(\"div\", class_=\"qti-listm\")\n",
    "    quotes = list(map(get_quotes, quote_tags))\n",
    "    authors = list(map(get_author, quote_tags))\n",
    "    quote_list.extend(quotes)\n",
    "    authors_list.extend(authors)"
   ]
  },
  {
   "cell_type": "code",
   "execution_count": 9,
   "metadata": {},
   "outputs": [
    {
     "name": "stdout",
     "output_type": "stream",
     "text": [
      "431\n"
     ]
    },
    {
     "data": {
      "text/plain": [
       "(166, 166)"
      ]
     },
     "execution_count": 9,
     "metadata": {},
     "output_type": "execute_result"
    }
   ],
   "source": [
    "print(len(quote_list))\n",
    "quote_list = [q for q in quote_list if q is not None]\n",
    "authors_list = [a for a in authors_list if a is not None]\n",
    "len(quote_list), len(authors_list)"
   ]
  },
  {
   "cell_type": "markdown",
   "metadata": {},
   "source": [
    "# Quotes from Brainy Quote"
   ]
  },
  {
   "cell_type": "code",
   "execution_count": 16,
   "metadata": {},
   "outputs": [
    {
     "data": {
      "text/plain": [
       "['The best and most beautiful things in the world cannot be seen or even touched - they must be felt with the heart.',\n",
       " 'The best preparation for tomorrow is doing your best today.',\n",
       " 'It is during our darkest moments that we must focus to see the light.',\n",
       " 'Clouds come floating into my life, no longer to carry rain or usher storm, but to add color to my sunset sky.',\n",
       " 'Happiness is not something you postpone for the future; it is something you design for the present.',\n",
       " \"I can't change the direction of the wind, but I can adjust my sails to always reach my destination.\",\n",
       " 'Put your heart, mind, and soul into even your smallest acts. This is the secret of success.',\n",
       " 'Health is the greatest gift, contentment the greatest wealth, faithfulness the best relationship.',\n",
       " 'No act of kindness, no matter how small, is ever wasted.',\n",
       " 'Change your thoughts and you change your world.']"
      ]
     },
     "execution_count": 16,
     "metadata": {},
     "output_type": "execute_result"
    }
   ],
   "source": [
    "quote_list[:10]"
   ]
  },
  {
   "cell_type": "code",
   "execution_count": 25,
   "metadata": {},
   "outputs": [
    {
     "data": {
      "text/plain": [
       "['Helen Keller',\n",
       " 'H. Jackson Brown, Jr.',\n",
       " 'Aristotle',\n",
       " 'Rabindranath Tagore',\n",
       " 'Jim Rohn',\n",
       " 'Jimmy Dean',\n",
       " 'Swami Sivananda',\n",
       " 'Buddha',\n",
       " 'Aesop',\n",
       " 'Norman Vincent Peale']"
      ]
     },
     "execution_count": 25,
     "metadata": {},
     "output_type": "execute_result"
    }
   ],
   "source": [
    "authors_list[:10]"
   ]
  },
  {
   "cell_type": "markdown",
   "metadata": {},
   "source": [
    "# Scraping keepinspiring"
   ]
  },
  {
   "cell_type": "code",
   "execution_count": 10,
   "metadata": {},
   "outputs": [],
   "source": [
    "def clean_author_quote(author_quote):\n",
    "    return author_quote.text.replace('“', \"\").replace('”', \"\")"
   ]
  },
  {
   "cell_type": "code",
   "execution_count": 11,
   "metadata": {},
   "outputs": [],
   "source": [
    "def get_author_quotes(soup):\n",
    "    author_quotes = soup.find_all(\"div\", class_=\"author-quotes\")\n",
    "    return author_quotes\n",
    "\n",
    "def make_keep_inspiring_request(url):\n",
    "    request = requests.get(url)\n",
    "    return request\n",
    "\n",
    "def get_keep_inspiring_author_quotes(url=\"https://www.keepinspiring.me/positive-inspirational-life-quotes/\"):\n",
    "    request = make_keep_inspiring_request(url)\n",
    "    soup =  BeautifulSoup(request.text, 'html.parser')\n",
    "    author_quotes = get_author_quotes(soup)\n",
    "    return list(map(clean_author_quote, author_quotes))"
   ]
  },
  {
   "cell_type": "code",
   "execution_count": 12,
   "metadata": {},
   "outputs": [],
   "source": [
    "def get_ki_author(text):\n",
    "    return text.split('–')[-1]\n",
    "\n",
    "def get_ki_quote(text):\n",
    "    return '-'.join(text.split('–')[:-1]).strip()"
   ]
  },
  {
   "cell_type": "code",
   "execution_count": 13,
   "metadata": {},
   "outputs": [],
   "source": [
    "ki_auth_quotes = get_keep_inspiring_author_quotes()"
   ]
  },
  {
   "cell_type": "markdown",
   "metadata": {},
   "source": [
    "# Quotes from Keep Inspiring"
   ]
  },
  {
   "cell_type": "code",
   "execution_count": 17,
   "metadata": {},
   "outputs": [
    {
     "data": {
      "text/plain": [
       "['Life is 10% what happens to us and 90% how we react to it.',\n",
       " 'There is no royal road to anything. One thing at a time, all things in succession. That which grows fast, withers as rapidly. That which grows slowly, endures.',\n",
       " 'Be not afraid of life. Believe that life is worth living, and your belief will help create the fact.',\n",
       " 'When I stand before God at the end of my life, I would hope that I would not have a single bit of talent left and could say, I used everything you gave me.',\n",
       " 'The quickest way to double your money is to fold it over and put it back in your pocket.',\n",
       " 'Even if you’re on the right track, you’ll get run over if you just sit there.',\n",
       " 'When I hear somebody sigh, ‘Life is hard,’ I am always tempted to ask, ‘Compared to what?’',\n",
       " 'Nurture your mind with great thoughts. To believe in the heroic makes heroes.',\n",
       " 'The real opportunity for success lies within the person and not in the job.',\n",
       " 'Look at the sparrows; they do not know what they will do in the next moment. Let us literally live from moment to moment.']"
      ]
     },
     "execution_count": 17,
     "metadata": {},
     "output_type": "execute_result"
    }
   ],
   "source": [
    "ki_quotes = list(map(get_ki_quote, ki_auth_quotes))\n",
    "ki_authors = list(map(get_ki_author, ki_auth_quotes))\n",
    "ki_quotes[:10]"
   ]
  },
  {
   "cell_type": "markdown",
   "metadata": {},
   "source": [
    "### Put quote_lists_together"
   ]
  },
  {
   "cell_type": "code",
   "execution_count": 15,
   "metadata": {},
   "outputs": [
    {
     "data": {
      "text/plain": [
       "(215, 215)"
      ]
     },
     "execution_count": 15,
     "metadata": {},
     "output_type": "execute_result"
    }
   ],
   "source": [
    "quote_list.extend(ki_quotes)\n",
    "authors_list.extend(ki_authors)\n",
    "len(quote_list), len(authors_list)"
   ]
  },
  {
   "cell_type": "code",
   "execution_count": 24,
   "metadata": {},
   "outputs": [
    {
     "data": {
      "text/html": [
       "<div>\n",
       "<style scoped>\n",
       "    .dataframe tbody tr th:only-of-type {\n",
       "        vertical-align: middle;\n",
       "    }\n",
       "\n",
       "    .dataframe tbody tr th {\n",
       "        vertical-align: top;\n",
       "    }\n",
       "\n",
       "    .dataframe thead th {\n",
       "        text-align: right;\n",
       "    }\n",
       "</style>\n",
       "<table border=\"1\" class=\"dataframe\">\n",
       "  <thead>\n",
       "    <tr style=\"text-align: right;\">\n",
       "      <th></th>\n",
       "      <th>author</th>\n",
       "      <th>quote</th>\n",
       "    </tr>\n",
       "  </thead>\n",
       "  <tbody>\n",
       "    <tr>\n",
       "      <th>0</th>\n",
       "      <td>Helen Keller</td>\n",
       "      <td>The best and most beautiful things in the worl...</td>\n",
       "    </tr>\n",
       "    <tr>\n",
       "      <th>1</th>\n",
       "      <td>H. Jackson Brown, Jr.</td>\n",
       "      <td>The best preparation for tomorrow is doing you...</td>\n",
       "    </tr>\n",
       "    <tr>\n",
       "      <th>2</th>\n",
       "      <td>Aristotle</td>\n",
       "      <td>It is during our darkest moments that we must ...</td>\n",
       "    </tr>\n",
       "    <tr>\n",
       "      <th>3</th>\n",
       "      <td>Rabindranath Tagore</td>\n",
       "      <td>Clouds come floating into my life, no longer t...</td>\n",
       "    </tr>\n",
       "    <tr>\n",
       "      <th>4</th>\n",
       "      <td>Jim Rohn</td>\n",
       "      <td>Happiness is not something you postpone for th...</td>\n",
       "    </tr>\n",
       "  </tbody>\n",
       "</table>\n",
       "</div>"
      ],
      "text/plain": [
       "                  author                                              quote\n",
       "0           Helen Keller  The best and most beautiful things in the worl...\n",
       "1  H. Jackson Brown, Jr.  The best preparation for tomorrow is doing you...\n",
       "2              Aristotle  It is during our darkest moments that we must ...\n",
       "3    Rabindranath Tagore  Clouds come floating into my life, no longer t...\n",
       "4               Jim Rohn  Happiness is not something you postpone for th..."
      ]
     },
     "execution_count": 24,
     "metadata": {},
     "output_type": "execute_result"
    }
   ],
   "source": [
    "### Put these in a dataframe and save to a csv\n",
    "dlist = []\n",
    "for author, quote in zip(authors_list, quote_list):\n",
    "    d = {}\n",
    "    d[\"author\"] = author\n",
    "    d[\"quote\"] = quote\n",
    "    dlist.append(d)\n",
    "df = pd.DataFrame(data=dlist)\n",
    "df.head()"
   ]
  },
  {
   "cell_type": "code",
   "execution_count": 103,
   "metadata": {},
   "outputs": [],
   "source": [
    "df.to_csv(\"files/inspirational_quote_authors.csv\")"
   ]
  },
  {
   "cell_type": "markdown",
   "metadata": {},
   "source": [
    "### Use markovify to create quotes"
   ]
  },
  {
   "cell_type": "code",
   "execution_count": 20,
   "metadata": {},
   "outputs": [],
   "source": [
    "import markovify"
   ]
  },
  {
   "cell_type": "code",
   "execution_count": 21,
   "metadata": {},
   "outputs": [],
   "source": [
    "m = markovify.NewlineText(\"\\n\".join(quote_list))"
   ]
  },
  {
   "cell_type": "markdown",
   "metadata": {},
   "source": [
    "# Generated Quotes"
   ]
  },
  {
   "cell_type": "code",
   "execution_count": 28,
   "metadata": {},
   "outputs": [],
   "source": [
    "generated_quotes = []"
   ]
  },
  {
   "cell_type": "code",
   "execution_count": 29,
   "metadata": {},
   "outputs": [],
   "source": [
    "while len(generated_quotes) < 100:\n",
    "    sentence = m.make_short_sentence(max_chars=280, min_chars=20)\n",
    "    generated_quotes.append(sentence)"
   ]
  },
  {
   "cell_type": "code",
   "execution_count": 30,
   "metadata": {},
   "outputs": [
    {
     "data": {
      "text/plain": [
       "['Change your thoughts and you change your life had just begun.',\n",
       " 'We must let go of the soul with itself.',\n",
       " 'I love those who wake.',\n",
       " \"Your present circumstances don't determine where you are doing the impossible.\",\n",
       " 'Your heart is full of magical things patiently waiting for us.',\n",
       " 'There are two ways of spreading light: to be like the turtle - at ease in your own shell.',\n",
       " 'One today is worth more than I can accomplish.',\n",
       " 'Love the moment and every event of every hand.',\n",
       " 'God sleeps in the heroic makes heroes.',\n",
       " 'Try to be the candle or the day runs you.']"
      ]
     },
     "execution_count": 30,
     "metadata": {},
     "output_type": "execute_result"
    }
   ],
   "source": [
    "generated_quotes[:10]"
   ]
  },
  {
   "cell_type": "code",
   "execution_count": 31,
   "metadata": {},
   "outputs": [
    {
     "data": {
      "text/plain": [
       "['Change your thoughts and you change your life had just begun.',\n",
       " 'We must let go of the soul with itself.',\n",
       " 'I love those who wake.',\n",
       " \"Your present circumstances don't determine where you are doing the impossible.\",\n",
       " 'Your heart is full of magical things patiently waiting for us.',\n",
       " 'There are two ways of spreading light: to be like the turtle - at ease in your own shell.',\n",
       " 'One today is worth more than I can accomplish.',\n",
       " 'Love the moment and every event of every hand.',\n",
       " 'God sleeps in the heroic makes heroes.',\n",
       " 'Try to be the candle or the day runs you.',\n",
       " 'It is by acts and not in the next home run.',\n",
       " 'Be brave enough to live life creatively. The creative place where no one can go back and make a living; what we get, we can catch excellence.',\n",
       " 'Countless as the human spirit.',\n",
       " \"Every moment and every event of every man's life on earth plants something in the sky, you look in you.\",\n",
       " 'What lies behind you and what is done in love is done in love is done well.',\n",
       " 'There is nothing stronger in the ear; it is regarded as self evident.',\n",
       " 'Happiness resides not in the ear; it is by acts and not in the sky, you look in you.',\n",
       " 'God sleeps in the job.',\n",
       " \"Without craftsmanship, inspiration is a fruit in season at all times, and within reach of every man's life on earth plants something in the world seems cold to you, kindle fires to warm it.\",\n",
       " 'Every strike brings me closer to the sun gives the mountains!',\n",
       " 'Don’t worry about failures, worry about failures, worry about failures, worry about failures, worry about the chances you miss when you don’t have a plan.',\n",
       " 'The quickest way to double your money is to go beyond them into the end of my decisions.',\n",
       " 'The great thing would you attempt if you miss when you don’t even try.',\n",
       " 'Either you run the day, or the mirror that reflects it.',\n",
       " 'It is always through.',\n",
       " 'God sleeps in the next home run.',\n",
       " 'Happiness is not something you postpone for the future; it is ridiculed. In the first, it is by going beyond them into the impossible.',\n",
       " 'There is nothing impossible to him who strives to help him who will try.',\n",
       " 'Without craftsmanship, inspiration is a mere reed shaken in the ear; it is that nobody need wait a single bit of talent left and could say, I used everything you gave me.',\n",
       " 'The limits of the fixed stars.',\n",
       " \"Every man's life is a fruit in season at all times, and within reach of every man's life is a fruit in season at all times, and within reach of every man's life is worth two tomorrows.\",\n",
       " 'Don’t worry about failures, worry about failures, worry about the chances you miss you will still be among the stars.',\n",
       " 'In a gentle way, you can go; they merely determine where you stand, as in what direction you are doing the impossible.',\n",
       " 'I have looked into your eyes with my eyes. I have seen further than others, it is something you postpone for the future; it is in the world than gentleness.',\n",
       " 'You change your world.',\n",
       " 'We must let go of what I am, I become what I am, I become what I might be.',\n",
       " 'The things that we love tell us what we give, however, makes a life.',\n",
       " 'Change your thoughts and you can turn the world over again.',\n",
       " 'We have it in our power to begin the world is, of course, the world around.',\n",
       " 'We know what we may be.',\n",
       " 'Live your beliefs and you change your world.',\n",
       " 'It is not so much where you start.',\n",
       " 'Happiness resides not in gold, happiness dwells in the wind.',\n",
       " 'Keep your face to the sun and the darkness will disappear of itself.',\n",
       " 'The measure of who we are capable of, we would literally astound ourselves.',\n",
       " \"Of all human activities, man's listening to God is the first of human qualities because it is something like a kiss through a veil.\",\n",
       " 'The great thing would you attempt if you miss you will still be among the stars.',\n",
       " 'The limits of the possible is to me worth more than I can adjust my sails to always reach my destination.',\n",
       " 'Lord, grant that I would not have a single moment before starting to improve the world.',\n",
       " 'Do not let what you might have been.',\n",
       " 'God sleeps in the mind.',\n",
       " 'The best and most beautiful things in succession. That which grows slowly, endures.',\n",
       " 'There are two ways of spreading light: to be like the turtle - at ease in your pocket.',\n",
       " 'Man never made any material as resilient as the sands of the possible is by standing upon the shoulders of giants.',\n",
       " 'It is always through.',\n",
       " 'Someone is sitting in the world is, of course, the world is, of course, the world around.',\n",
       " 'Keep away from people who specialize in the job.',\n",
       " 'The journey of a leaf.',\n",
       " \"I can't change the world.\",\n",
       " 'When I stand before God at the skies, one would end up with wings.',\n",
       " 'Be brave enough to drive away many shadows.',\n",
       " 'Countless as the human spirit.',\n",
       " 'Every truth passes through three stages before it is ridiculed. In the first, it is something like a kiss through a veil.',\n",
       " 'Your big opportunity may be right where you stand, as in what direction you are doing the impossible.',\n",
       " 'Let us sacrifice our today so that our children can have a single moment before starting to improve the world.',\n",
       " 'In a gentle way, you can go; they merely determine where you start.',\n",
       " 'Nurture your mind with great thoughts. To believe in living today. Not in yesterday, nor in tomorrow.',\n",
       " 'We become what I am, I become what we are.',\n",
       " 'The most beautiful things in the job.',\n",
       " 'We have it in our power to begin the world is, of course, the world around.',\n",
       " 'Even if I knew that tomorrow the world seems cold to you, kindle fires to warm it.',\n",
       " 'The handicap of deafness is not in gold, happiness dwells in the wind.',\n",
       " 'What lies behind you and what is done well.',\n",
       " 'You may find the way.',\n",
       " 'Either you run the day, or the mirror that reflects it.',\n",
       " 'Live your beliefs and you can go; they merely determine where you are moving.',\n",
       " 'I have seen yesterday and I - I dream things that never were and say why not.',\n",
       " 'Of all things visible, the highest is the only day. Yesterday is gone.',\n",
       " 'There are two ways of spreading light: to be broke, fat, lazy, or stupid. Those things are what happen when you don’t even try.',\n",
       " 'Follow your bliss and the shadows fall behind you.',\n",
       " 'God loves to help himself.',\n",
       " 'What we need is the one that is waiting for us.',\n",
       " 'Nurture your minds with great thoughts. To believe in living today. Not in yesterday, nor in tomorrow.',\n",
       " 'Countless as the human spirit.',\n",
       " 'Be not afraid of nothing.',\n",
       " 'All you need is the wind, but I can accomplish.',\n",
       " 'The limits of the fixed stars.',\n",
       " 'It is always through.',\n",
       " 'Countless as the sands of the fixed stars.',\n",
       " 'Love the moment and the universe will open doors where there is no path and leave a trail.',\n",
       " 'Today is the one less traveled by, and that has made all the things you think you cannot do.',\n",
       " 'Every strike brings me closer to the point of tears.',\n",
       " 'Men must live and create. Live to the next home run.',\n",
       " 'Someone is sitting in the world around.',\n",
       " 'We become what we are, but know not what we get, we can catch excellence.',\n",
       " 'There is no royal road to anything. One thing at a time, all things visible, the highest is the root of all knowledge.',\n",
       " 'One today is worth more than this day.',\n",
       " 'If we did all the things you think you cannot do.',\n",
       " 'I love those who wake.',\n",
       " \"When I stand before God at the sparrows; they do not know what they will do in the world would go to pieces, I would hope that I would not have a dream, you've got to grab it and never let go.\"]"
      ]
     },
     "execution_count": 31,
     "metadata": {},
     "output_type": "execute_result"
    }
   ],
   "source": [
    "generated_quotes"
   ]
  },
  {
   "cell_type": "code",
   "execution_count": null,
   "metadata": {},
   "outputs": [],
   "source": []
  }
 ],
 "metadata": {
  "kernelspec": {
   "display_name": "Python 3",
   "language": "python",
   "name": "python3"
  },
  "language_info": {
   "codemirror_mode": {
    "name": "ipython",
    "version": 3
   },
   "file_extension": ".py",
   "mimetype": "text/x-python",
   "name": "python",
   "nbconvert_exporter": "python",
   "pygments_lexer": "ipython3",
   "version": "3.6.4"
  }
 },
 "nbformat": 4,
 "nbformat_minor": 2
}
